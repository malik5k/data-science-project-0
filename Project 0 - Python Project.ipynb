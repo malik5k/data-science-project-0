{
 "cells": [
  {
   "cell_type": "markdown",
   "metadata": {},
   "source": [
    "# تمارين لغة بايثون"
   ]
  },
  {
   "cell_type": "markdown",
   "metadata": {},
   "source": [
    "مرحبًا، هذا الملف سيكون تقييمًا جيدًا لنا لمعرفة مهارتنا في لغة بايثون  \n",
    "من المهم لنا أن نتقن استخدام الأداة حتى نحقق أهدافنا، و أداتنا في هذا المعسكر هي لغة بايثون  \n",
    "سنطلب منك حل التحديات القصيرة أدناه، لتتمكن من تقييم نفسك ، بالتوفيق!\n",
    "\n",
    "ملاحظة: لا يوجد حل واحد صحيح، و هذا ما يميز البرمجة حقًا"
   ]
  },
  {
   "cell_type": "markdown",
   "metadata": {},
   "source": [
    "### المهمة الأولى"
   ]
  },
  {
   "cell_type": "markdown",
   "metadata": {},
   "source": [
    "لدينا أربعة متغيرات هنا، هل يمكننا برمجيًا معرفة نوع هذه المتغيرات؟  \n",
    "يرجى كتابة الحل المقترح"
   ]
  },
  {
   "cell_type": "code",
   "execution_count": 5,
   "metadata": {},
   "outputs": [
    {
     "name": "stdout",
     "output_type": "stream",
     "text": [
      "<class 'int'>\n",
      "<class 'float'>\n",
      "<class 'bool'>\n",
      "<class 'str'>\n"
     ]
    }
   ],
   "source": [
    "x = 7\n",
    "y = x/3\n",
    "z = x == 7\n",
    "s = \"Hello python programmer!\"\n",
    "\n",
    "x = 7\n",
    "print(type(x))\n",
    "y = x/3\n",
    "print(type(y))\n",
    "z = x == 7\n",
    "print(type(z))\n",
    "s = \"Hello python programmer!\"\n",
    "print(type(s))"
   ]
  },
  {
   "cell_type": "markdown",
   "metadata": {},
   "source": [
    "### المهمة الثانية"
   ]
  },
  {
   "cell_type": "markdown",
   "metadata": {},
   "source": [
    "نرغب بطباعة الجملة التالية:  \n",
    "\"I want to pay 10.5 riyals for 2 pieces of this item.\"  \n",
    "لكننا سنقوم باستخدام المتغيرات المعرفة لدينا (متغير السعر ومتغير الكمية) بدلا من إعادة كتابة الأرقام، هل يمكنك فعلها؟"
   ]
  },
  {
   "cell_type": "code",
   "execution_count": 1,
   "metadata": {},
   "outputs": [
    {
     "name": "stdout",
     "output_type": "stream",
     "text": [
      "I want to pay 10.5 riyals for 2 pieces of this item.\n"
     ]
    }
   ],
   "source": [
    "quantity = 2\n",
    "price = 10.5\n",
    "text = \"I want to pay {} riyals for {} pieces of this item.\".format(price, quantity)\n",
    "print(text)"
   ]
  },
  {
   "cell_type": "markdown",
   "metadata": {},
   "source": [
    "### المهمة الثالثة"
   ]
  },
  {
   "cell_type": "markdown",
   "metadata": {},
   "source": [
    "قم بكتابة دالة تقوم بمقارنة الرقم المدخل (مثل ١٩) بالرقم ١٠ و تخبرك ما إذا كان أكبر من الرقم ١٠ أم لا"
   ]
  },
  {
   "cell_type": "code",
   "execution_count": 1,
   "metadata": {},
   "outputs": [
    {
     "name": "stdout",
     "output_type": "stream",
     "text": [
      "True\n"
     ]
    }
   ],
   "source": [
    "def bigger_than_10(x):\n",
    "    number = x > 10    \n",
    "    print(number)\n",
    "    \n",
    "bigger_than_10(19)"
   ]
  },
  {
   "cell_type": "markdown",
   "metadata": {},
   "source": [
    "### المهمة الرابعة"
   ]
  },
  {
   "cell_type": "markdown",
   "metadata": {},
   "source": [
    "لدينا قائمة من الفواكه، كيف يمكننا برمجيا الحصول على آخر فاكهتين في القائمة؟"
   ]
  },
  {
   "cell_type": "code",
   "execution_count": 2,
   "metadata": {},
   "outputs": [
    {
     "name": "stdout",
     "output_type": "stream",
     "text": [
      "melon mango\n"
     ]
    }
   ],
   "source": [
    "fruites = [\"apple\", \"banana\", \"cherry\", \"orange\", \"kiwi\", \"melon\", \"mango\"]\n",
    "print(fruites[5], fruites[6])"
   ]
  },
  {
   "cell_type": "markdown",
   "metadata": {},
   "source": [
    "هل يمكننا طباعة كل عنصر من القائمة السابقة في سطر مستقل؟"
   ]
  },
  {
   "cell_type": "code",
   "execution_count": 3,
   "metadata": {},
   "outputs": [
    {
     "name": "stdout",
     "output_type": "stream",
     "text": [
      "apple\n",
      "banana\n",
      "cherry\n",
      "orange\n",
      "kiwi\n",
      "melon\n",
      "mango\n"
     ]
    }
   ],
   "source": [
    "print(*fruites,sep='\\n')"
   ]
  },
  {
   "cell_type": "markdown",
   "metadata": {},
   "source": [
    "### المهمة الخامسة"
   ]
  },
  {
   "cell_type": "markdown",
   "metadata": {},
   "source": [
    "لنفترض أن لدينا المعجم التالي، نريد إضافة المفتاح  \n",
    "black  \n",
    "بالقيمة  \n",
    "000000"
   ]
  },
  {
   "cell_type": "code",
   "execution_count": null,
   "metadata": {},
   "outputs": [],
   "source": [
    "colors = {\n",
    "  \"blue\": \"0000FF\",\n",
    "  \"green\": \"00FF00\",\n",
    "  \"yellow\": \"FFFF00\",\n",
    "  \"red\": \"FF0000\",\n",
    "  \"white\": \"unknown\"\n",
    "}"
   ]
  },
  {
   "cell_type": "code",
   "execution_count": 1,
   "metadata": {},
   "outputs": [
    {
     "name": "stdout",
     "output_type": "stream",
     "text": [
      "{'blue': '0000FF', 'green': '00FF00', 'yellow': 'FFFF00', 'red': 'FF0000', 'white': 'unknown', 'black': '000000'}\n"
     ]
    }
   ],
   "source": [
    "colors = {\n",
    "  \"blue\": \"0000FF\",\n",
    "  \"green\": \"00FF00\",\n",
    "  \"yellow\": \"FFFF00\",\n",
    "  \"red\": \"FF0000\",\n",
    "  \"white\": \"unknown\"\n",
    "}\n",
    "colors[\"black\"] = \"000000\"\n",
    "print(colors)"
   ]
  },
  {
   "cell_type": "markdown",
   "metadata": {},
   "source": [
    "هل يمكننا تغيير قيمة المفتاح  \n",
    "white  \n",
    "بالقيمة  \n",
    "FFFFFF ?"
   ]
  },
  {
   "cell_type": "code",
   "execution_count": 6,
   "metadata": {},
   "outputs": [
    {
     "name": "stdout",
     "output_type": "stream",
     "text": [
      "{'blue': '0000FF', 'green': '00FF00', 'yellow': 'FFFF00', 'red': 'FF0000', 'white': 'FFFFFF', 'black': '000000'}\n"
     ]
    }
   ],
   "source": [
    "colors= {'blue': '0000FF', 'green': '00FF00', 'yellow': 'FFFF00', 'red': 'FF0000', 'white': 'unknown', 'black': '000000'}\n",
    "colors['white'] = 'FFFFFF'\n",
    "print(colors)"
   ]
  },
  {
   "cell_type": "markdown",
   "metadata": {},
   "source": [
    "نريد إنشاء دالة تقوم بأخذ قائمة و استبدال عناصرها بالقيم من المعجم بالاستعانة بالمفاتيح\n",
    "مثال: نستبدل  \n",
    "blue  \n",
    "  بالقيمة  \n",
    "  0000FF"
   ]
  },
  {
   "cell_type": "code",
   "execution_count": 13,
   "metadata": {},
   "outputs": [],
   "source": [
    "def exchange_values(lista):\n",
    "    b = colors['blue']\n",
    "    print(b)\n",
    "    w = colors['white']\n",
    "    print(w)\n",
    "    c = colors['black']\n",
    "    print(c)\n",
    "    y = colors['yellow']\n",
    "    print(y)\n",
    "    g = colors['green']\n",
    "    print(g)\n",
    "    r = colors['red']\n",
    "    print(r)"
   ]
  },
  {
   "cell_type": "code",
   "execution_count": 14,
   "metadata": {},
   "outputs": [
    {
     "name": "stdout",
     "output_type": "stream",
     "text": [
      "0000FF\n",
      "FFFFFF\n",
      "000000\n",
      "FFFF00\n",
      "00FF00\n",
      "FF0000\n"
     ]
    }
   ],
   "source": [
    "lista = ['blue', 'white', 'black', 'yellow', 'green', 'red']\n",
    "exchange_values(lista)"
   ]
  }
 ],
 "metadata": {
  "kernelspec": {
   "display_name": "Python 3",
   "language": "python",
   "name": "python3"
  },
  "language_info": {
   "codemirror_mode": {
    "name": "ipython",
    "version": 3
   },
   "file_extension": ".py",
   "mimetype": "text/x-python",
   "name": "python",
   "nbconvert_exporter": "python",
   "pygments_lexer": "ipython3",
   "version": "3.7.6"
  }
 },
 "nbformat": 4,
 "nbformat_minor": 2
}
